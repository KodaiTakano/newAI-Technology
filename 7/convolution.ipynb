{
 "cells": [
  {
   "cell_type": "code",
   "execution_count": 2,
   "metadata": {},
   "outputs": [],
   "source": [
    "import numpy as np\n",
    "import matplotlib.pyplot as plt\n",
    "from sklearn import datasets"
   ]
  },
  {
   "cell_type": "markdown",
   "metadata": {},
   "source": [
    "### simple_im2col関数\n",
    "out_h:出力画像の高さ  \n",
    "out_w:出力画像の幅(simple_im2colの出力ではないことに注意)  \n",
    "cols:出力される行列  "
   ]
  },
  {
   "cell_type": "code",
   "execution_count": 3,
   "metadata": {},
   "outputs": [],
   "source": [
    "def simple_im2col(img, flt_h, flt_w, out_h, out_w):\n",
    "    cols = np.zeros((flt_h*flt_w, out_h*out_w))\n",
    "    \n",
    "    for h in range(out_h):\n",
    "        h_lim = h + flt_h\n",
    "        for w in range(out_w):\n",
    "            w_lim = w + flt_w\n",
    "            cols[:, h*out_w+w] = img[h:h_lim, w:w_lim].reshape(-1)\n",
    "    return cols"
   ]
  },
  {
   "cell_type": "code",
   "execution_count": 10,
   "metadata": {},
   "outputs": [
    {
     "data": {
      "image/png": "[encoded data removed]",
      "text/plain": [
       "<Figure size 432x288 with 1 Axes>"
      ]
     },
     "metadata": {
      "needs_background": "light"
     },
     "output_type": "display_data"
    }
   ],
   "source": [
    "digits = datasets.load_digits()\n",
    "image = digits.data[0].reshape(8, 8)\n",
    "plt.imshow(image, cmap=\"gray\")\n",
    "plt.show()"
   ]
  },
  {
   "cell_type": "markdown",
   "metadata": {},
   "source": [
    "[-1, 1, -1,],\n",
    "[-1, 1, -1,],\n",
    "[-1, 1, -1,]\n",
    "のフィルタで縦の線を強調"
   ]
  },
  {
   "cell_type": "code",
   "execution_count": 12,
   "metadata": {},
   "outputs": [
    {
     "data": {
      "image/png": "[encoded data removed]",
      "text/plain": [
       "<Figure size 432x288 with 1 Axes>"
      ]
     },
     "metadata": {
      "needs_background": "light"
     },
     "output_type": "display_data"
    }
   ],
   "source": [
    "flt = np.array([[-1, 1, -1,],\n",
    "                [-1, 1, -1,],\n",
    "                [-1, 1, -1,]])\n",
    "flt_h, flt_w = flt.shape\n",
    "flt = flt.reshape(-1)\n",
    "\n",
    "img_h, img_w = image.shape\n",
    "out_h = img_h - flt_h + 1\n",
    "out_w = img_w - flt_w + 1\n",
    "cols = simple_im2col(image, flt_h, flt_w, out_h, out_h)\n",
    "\n",
    "image_out = np.dot(flt, cols)\n",
    "image_out = image_out.reshape(out_h, out_w)\n",
    "plt.imshow(image_out, cmap=\"gray\")\n",
    "plt.show()"
   ]
  }
 ],
 "metadata": {
  "interpreter": {
   "hash": "bf557fdaaf869733d7e5b9a9a76d12c84f9bcff100ea28bae790bb9bdc460098"
  },
  "kernelspec": {
   "display_name": "Python 3.10.1 ('.venv': venv)",
   "language": "python",
   "name": "python3"
  },
  "language_info": {
   "codemirror_mode": {
    "name": "ipython",
    "version": 3
   },
   "file_extension": ".py",
   "mimetype": "text/x-python",
   "name": "python",
   "nbconvert_exporter": "python",
   "pygments_lexer": "ipython3",
   "version": "3.10.1"
  },
  "orig_nbformat": 4
 },
 "nbformat": 4,
 "nbformat_minor": 2
}
