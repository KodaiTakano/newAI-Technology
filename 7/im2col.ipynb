{
 "cells": [
  {
   "cell_type": "code",
   "execution_count": 17,
   "metadata": {},
   "outputs": [],
   "source": [
    "import numpy as np"
   ]
  },
  {
   "cell_type": "markdown",
   "metadata": {},
   "source": [
    "### simple_im2col関数\n",
    "out_h:出力画像の高さ  \n",
    "out_w:出力画像の幅(simple_im2colの出力ではないことに注意)  \n",
    "cols:出力される行列  "
   ]
  },
  {
   "cell_type": "code",
   "execution_count": 18,
   "metadata": {},
   "outputs": [],
   "source": [
    "def simple_im2col(img, flt_h, flt_w):\n",
    "    img_h, img_w = img.shape\n",
    "    out_h = img_h - flt_h + 1 \n",
    "    out_w = img_w - flt_w + 1 \n",
    "    cols = np.zeros((flt_h*flt_w, out_h*out_w))\n",
    "    \n",
    "    for h in range(out_h):\n",
    "        h_lim = h + flt_h\n",
    "        for w in range(out_w):\n",
    "            w_lim = w + flt_w\n",
    "            cols[:, h*out_w+w] = img[h:h_lim, w:w_lim].reshape(-1)\n",
    "    return cols"
   ]
  },
  {
   "cell_type": "code",
   "execution_count": 19,
   "metadata": {},
   "outputs": [
    {
     "name": "stdout",
     "output_type": "stream",
     "text": [
      "[[ 1.  2.  3.  5.  6.  7.  9. 10. 11.]\n",
      " [ 2.  3.  4.  6.  7.  8. 10. 11. 12.]\n",
      " [ 5.  6.  7.  9. 10. 11. 13. 14. 15.]\n",
      " [ 6.  7.  8. 10. 11. 12. 14. 15. 16.]]\n"
     ]
    }
   ],
   "source": [
    "img = np.array([[1, 2, 3, 4],\n",
    "                [5, 6, 7, 8],\n",
    "                [9, 10, 11, 12],\n",
    "                [13, 14, 15, 16]])\n",
    "cols = simple_im2col(img, 2, 2)\n",
    "print(cols)"
   ]
  },
  {
   "cell_type": "markdown",
   "metadata": {},
   "source": [
    "### im2col関数\n",
    "// :切り捨て除算  \n",
    "out_h:出力画像の高さ  \n",
    "out_w:出力画像の幅(im2colの出力ではないことに注意)  \n",
    "cols:出力される行列  "
   ]
  },
  {
   "cell_type": "code",
   "execution_count": 20,
   "metadata": {},
   "outputs": [],
   "source": [
    "def im2col(images, flt_h, flt_w, stride, pad):\n",
    "    n_bt, n_ch, img_h, img_w = images.shape\n",
    "    out_h = (img_h - flt_h + 2*pad) // stride + 1\n",
    "    out_w = (img_w - flt_w + 2*pad) // stride + 1\n",
    "    img_pad = np.pad(images, [(0,0), (0,0), (pad,pad), (pad,pad)], \"constant\") \n",
    "    cols = np.zeros((n_bt, n_ch, flt_h, flt_w, out_h, out_w))\n",
    "    for h in range(flt_h):\n",
    "        h_lim = h + stride*out_h\n",
    "        for w in range(flt_w):\n",
    "            w_lim = w + stride*out_w\n",
    "            cols[:, :, h, w, :, :] = img_pad[:, :, h:h_lim:stride, w:w_lim:stride]\n",
    "    \n",
    "    cols = cols.transpose(1, 2, 3, 0, 4, 5).reshape(n_ch*flt_h*flt_w, n_bt*out_h*out_w)\n",
    "    return cols"
   ]
  },
  {
   "cell_type": "code",
   "execution_count": 21,
   "metadata": {},
   "outputs": [
    {
     "name": "stdout",
     "output_type": "stream",
     "text": [
      "[[ 1.  2.  3.  5.  6.  7.  9. 10. 11.]\n",
      " [ 2.  3.  4.  6.  7.  8. 10. 11. 12.]\n",
      " [ 5.  6.  7.  9. 10. 11. 13. 14. 15.]\n",
      " [ 6.  7.  8. 10. 11. 12. 14. 15. 16.]]\n"
     ]
    }
   ],
   "source": [
    "img = np.array([[[[1, 2, 3, 4],\n",
    "                  [5, 6, 7, 8],\n",
    "                  [9, 10, 11, 12],\n",
    "                  [13, 14, 15, 16]]]])\n",
    "cols = im2col(img, 2, 2, 1, 0)\n",
    "print(cols)"
   ]
  }
 ],
 "metadata": {
  "language_info": {
   "name": "python"
  },
  "orig_nbformat": 4
 },
 "nbformat": 4,
 "nbformat_minor": 2
}
