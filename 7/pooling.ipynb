{
 "cells": [
  {
   "cell_type": "code",
   "execution_count": 10,
   "metadata": {},
   "outputs": [],
   "source": [
    "import numpy as np\n",
    "import matplotlib.pyplot as plt\n",
    "from sklearn import datasets"
   ]
  },
  {
   "cell_type": "code",
   "execution_count": 11,
   "metadata": {},
   "outputs": [
    {
     "data": {
      "image/png": "[encoded data removed]",
      "text/plain": [
       "<Figure size 432x288 with 1 Axes>"
      ]
     },
     "metadata": {
      "needs_background": "light"
     },
     "output_type": "display_data"
    }
   ],
   "source": [
    "digits = datasets.load_digits()\n",
    "image = digits.data[0].reshape(8, 8)\n",
    "plt.imshow(image, cmap=\"gray\")\n",
    "plt.show()"
   ]
  },
  {
   "cell_type": "code",
   "execution_count": 12,
   "metadata": {},
   "outputs": [],
   "source": [
    "def im2col(img, flt_h, flt_w, out_h, out_w, stride):\n",
    "    # n_bt, n_ch, img_h, img_w = images.shape\n",
    "    # out_h = (img_h - flt_h + 2*pad) // stride + 1\n",
    "    # out_w = (img_w - flt_w + 2*pad) // stride + 1\n",
    "    # img_pad = np.pad(images, [(0,0), (0,0), (pad,pad), (pad,pad)], \"constant\") \n",
    "    cols = np.zeros((flt_h*flt_w, out_h*out_w))\n",
    "    for h in range(out_h):\n",
    "        h_lim = stride*h + flt_h\n",
    "        for w in range(out_w):\n",
    "            w_lim = stride*w + flt_w\n",
    "            cols[:, h*out_w+w] = img[stride*h:h_lim, stride*w:w_lim].reshape(-1)\n",
    "    \n",
    "    return cols"
   ]
  },
  {
   "cell_type": "code",
   "execution_count": 13,
   "metadata": {},
   "outputs": [
    {
     "data": {
      "image/png": "[encoded data removed]",
      "text/plain": [
       "<Figure size 432x288 with 1 Axes>"
      ]
     },
     "metadata": {
      "needs_background": "light"
     },
     "output_type": "display_data"
    }
   ],
   "source": [
    "img_h, img_w = image.shape\n",
    "pool = 2\n",
    "\n",
    "out_h = img_h//pool\n",
    "out_w = img_w//pool\n",
    "\n",
    "cols = im2col(image, pool, pool, out_h, out_w, pool)\n",
    "image_out = np.max(cols, axis=0)\n",
    "image_out = image_out.reshape(out_h, out_w)\n",
    "\n",
    "plt.imshow(image_out, cmap=\"gray\")\n",
    "plt.show()"
   ]
  }
 ],
 "metadata": {
  "interpreter": {
   "hash": "bf557fdaaf869733d7e5b9a9a76d12c84f9bcff100ea28bae790bb9bdc460098"
  },
  "kernelspec": {
   "display_name": "Python 3.10.1 ('.venv': venv)",
   "language": "python",
   "name": "python3"
  },
  "language_info": {
   "codemirror_mode": {
    "name": "ipython",
    "version": 3
   },
   "file_extension": ".py",
   "mimetype": "text/x-python",
   "name": "python",
   "nbconvert_exporter": "python",
   "pygments_lexer": "ipython3",
   "version": "3.10.1"
  },
  "orig_nbformat": 4
 },
 "nbformat": 4,
 "nbformat_minor": 2
}
